{
 "cells": [
  {
   "cell_type": "markdown",
   "metadata": {},
   "source": [
    "# Extensions to Linear Models - Lab"
   ]
  },
  {
   "cell_type": "markdown",
   "metadata": {},
   "source": [
    "## Introduction\n",
    "\n",
    "In this lab, you'll practice many concepts learned in this section, from adding interactions and polynomials to your model to AIC and BIC!"
   ]
  },
  {
   "cell_type": "markdown",
   "metadata": {},
   "source": [
    "## Summary\n",
    "\n",
    "You will be able to:\n",
    "- Build a linear regression model with polynomial features/interactions\n",
    "- Perform regularization\n",
    "- Use AIC and BIC to select the best value for the regularization parameter\n"
   ]
  },
  {
   "cell_type": "markdown",
   "metadata": {},
   "source": [
    "## Let's get started!"
   ]
  },
  {
   "cell_type": "markdown",
   "metadata": {},
   "source": [
    "Import all the necessary packages."
   ]
  },
  {
   "cell_type": "code",
   "execution_count": 3,
   "metadata": {},
   "outputs": [],
   "source": [
    "import pandas as pd\n",
    "import numpy as np\n",
    "import matplotlib.pyplot as plt\n",
    "import warnings\n",
    "warnings.filterwarnings('ignore')\n",
    "\n",
    "from sklearn.linear_model import LinearRegression\n",
    "from sklearn.model_selection import cross_val_score\n",
    "from sklearn.model_selection import KFold\n",
    "from sklearn import preprocessing\n",
    "\n",
    "from sklearn.datasets import load_boston"
   ]
  },
  {
   "cell_type": "markdown",
   "metadata": {},
   "source": [
    "## Look at a Baseline Boston Housing Data Model"
   ]
  },
  {
   "cell_type": "markdown",
   "metadata": {},
   "source": [
    "Import the Boston housing data set, use all the predictors in their scaled version (using `preprocessing.scale`. Look at a baseline model using *scaled variables* as predictors. Use 5-fold cross-validation this time and use the $R^2$ score to evaluate the model."
   ]
  },
  {
   "cell_type": "code",
   "execution_count": 8,
   "metadata": {},
   "outputs": [
    {
     "data": {
      "text/plain": [
       "0.7176778617934925"
      ]
     },
     "execution_count": 8,
     "metadata": {},
     "output_type": "execute_result"
    }
   ],
   "source": [
    "# Your code here\n",
    "boston = load_boston()\n",
    "X = pd.DataFrame(boston.data, columns = boston.feature_names)\n",
    "y = pd.DataFrame(boston.target, columns = ['Price'])\n",
    "\n",
    "scaler = preprocessing.MinMaxScaler()\n",
    "X = scaler.fit_transform(X)\n",
    "y = scaler.fit_transform(y)\n",
    "X = pd.DataFrame(X, columns = boston.feature_names)\n",
    "y = pd.DataFrame(y, columns = ['MEDV'])\n",
    "linreg = LinearRegression()\n",
    "crossvalidation = KFold(n_splits=5, shuffle=True, random_state=1)\n",
    "r2 = np.mean(cross_val_score(linreg, X, y, scoring=\"r2\", cv=crossvalidation))\n",
    "r2"
   ]
  },
  {
   "cell_type": "markdown",
   "metadata": {},
   "source": [
    "## Include interactions\n",
    "\n",
    "Look at all the possible combinations of variables for interactions by adding interactions one by one to the baseline model. Next, evaluate that model using 5-fold classification and store the $R^2$ to compare it with the baseline model.\n",
    "\n",
    "You've created code for this before in the interactions lab, yet this time, you have scaled the variables so the outcomes may look different. \n",
    "\n",
    "Print the 7 most important interactions."
   ]
  },
  {
   "cell_type": "code",
   "execution_count": 9,
   "metadata": {},
   "outputs": [
    {
     "data": {
      "text/html": [
       "<div>\n",
       "<style scoped>\n",
       "    .dataframe tbody tr th:only-of-type {\n",
       "        vertical-align: middle;\n",
       "    }\n",
       "\n",
       "    .dataframe tbody tr th {\n",
       "        vertical-align: top;\n",
       "    }\n",
       "\n",
       "    .dataframe thead th {\n",
       "        text-align: right;\n",
       "    }\n",
       "</style>\n",
       "<table border=\"1\" class=\"dataframe\">\n",
       "  <thead>\n",
       "    <tr style=\"text-align: right;\">\n",
       "      <th></th>\n",
       "      <th>Interaction</th>\n",
       "      <th>R2</th>\n",
       "      <th>var1</th>\n",
       "      <th>var2</th>\n",
       "    </tr>\n",
       "  </thead>\n",
       "  <tbody>\n",
       "    <tr>\n",
       "      <th>56</th>\n",
       "      <td>RM_LSTAT</td>\n",
       "      <td>0.783201</td>\n",
       "      <td>RM</td>\n",
       "      <td>LSTAT</td>\n",
       "    </tr>\n",
       "    <tr>\n",
       "      <th>53</th>\n",
       "      <td>RM_TAX</td>\n",
       "      <td>0.775268</td>\n",
       "      <td>RM</td>\n",
       "      <td>TAX</td>\n",
       "    </tr>\n",
       "    <tr>\n",
       "      <th>52</th>\n",
       "      <td>RM_RAD</td>\n",
       "      <td>0.770118</td>\n",
       "      <td>RM</td>\n",
       "      <td>RAD</td>\n",
       "    </tr>\n",
       "    <tr>\n",
       "      <th>54</th>\n",
       "      <td>RM_PTRATIO</td>\n",
       "      <td>0.763594</td>\n",
       "      <td>RM</td>\n",
       "      <td>PTRATIO</td>\n",
       "    </tr>\n",
       "    <tr>\n",
       "      <th>25</th>\n",
       "      <td>INDUS_RM</td>\n",
       "      <td>0.756628</td>\n",
       "      <td>INDUS</td>\n",
       "      <td>RM</td>\n",
       "    </tr>\n",
       "    <tr>\n",
       "      <th>42</th>\n",
       "      <td>NOX_RM</td>\n",
       "      <td>0.746111</td>\n",
       "      <td>NOX</td>\n",
       "      <td>RM</td>\n",
       "    </tr>\n",
       "    <tr>\n",
       "      <th>50</th>\n",
       "      <td>RM_AGE</td>\n",
       "      <td>0.742141</td>\n",
       "      <td>RM</td>\n",
       "      <td>AGE</td>\n",
       "    </tr>\n",
       "  </tbody>\n",
       "</table>\n",
       "</div>"
      ],
      "text/plain": [
       "   Interaction        R2   var1     var2\n",
       "56    RM_LSTAT  0.783201     RM    LSTAT\n",
       "53      RM_TAX  0.775268     RM      TAX\n",
       "52      RM_RAD  0.770118     RM      RAD\n",
       "54  RM_PTRATIO  0.763594     RM  PTRATIO\n",
       "25    INDUS_RM  0.756628  INDUS       RM\n",
       "42      NOX_RM  0.746111    NOX       RM\n",
       "50      RM_AGE  0.742141     RM      AGE"
      ]
     },
     "execution_count": 9,
     "metadata": {},
     "output_type": "execute_result"
    }
   ],
   "source": [
    "# Your code here\n",
    "from itertools import combinations\n",
    "combs = combinations(X.columns,2)\n",
    "fits = {'Interaction':[],'R2':[], 'var1':[],'var2':[]}\n",
    "for comb in combs:\n",
    "    Xc = X.copy()\n",
    "    column_name = comb[0]+'_'+comb[1]\n",
    "    Xc[column_name] = Xc[comb[0]]*Xc[comb[1]]\n",
    "    r2 = np.mean(cross_val_score(linreg, Xc, y, scoring=\"r2\", cv=crossvalidation))\n",
    "    fits['Interaction'].append(column_name)\n",
    "    fits['R2'].append(r2)\n",
    "    fits['var1'].append(comb[0])\n",
    "    fits['var2'].append(comb[1])\n",
    "fits_df = pd.DataFrame(fits)\n",
    "top_7 = fits_df.sort_values(by = 'R2', ascending = False).head(7)\n",
    "top_7"
   ]
  },
  {
   "cell_type": "markdown",
   "metadata": {},
   "source": [
    "Write code to include the 7 most important interactions in your data set by adding 7 columns. Name the columns \"var1_var2\" with var1 and var2 the two variables in the interaction."
   ]
  },
  {
   "cell_type": "code",
   "execution_count": 10,
   "metadata": {},
   "outputs": [
    {
     "data": {
      "text/html": [
       "<div>\n",
       "<style scoped>\n",
       "    .dataframe tbody tr th:only-of-type {\n",
       "        vertical-align: middle;\n",
       "    }\n",
       "\n",
       "    .dataframe tbody tr th {\n",
       "        vertical-align: top;\n",
       "    }\n",
       "\n",
       "    .dataframe thead th {\n",
       "        text-align: right;\n",
       "    }\n",
       "</style>\n",
       "<table border=\"1\" class=\"dataframe\">\n",
       "  <thead>\n",
       "    <tr style=\"text-align: right;\">\n",
       "      <th></th>\n",
       "      <th>CRIM</th>\n",
       "      <th>ZN</th>\n",
       "      <th>INDUS</th>\n",
       "      <th>CHAS</th>\n",
       "      <th>NOX</th>\n",
       "      <th>RM</th>\n",
       "      <th>AGE</th>\n",
       "      <th>DIS</th>\n",
       "      <th>RAD</th>\n",
       "      <th>TAX</th>\n",
       "      <th>PTRATIO</th>\n",
       "      <th>B</th>\n",
       "      <th>LSTAT</th>\n",
       "      <th>RM_LSTAT</th>\n",
       "      <th>RM_TAX</th>\n",
       "      <th>RM_RAD</th>\n",
       "      <th>RM_PTRATIO</th>\n",
       "      <th>INDUS_RM</th>\n",
       "      <th>NOX_RM</th>\n",
       "      <th>RM_AGE</th>\n",
       "    </tr>\n",
       "  </thead>\n",
       "  <tbody>\n",
       "    <tr>\n",
       "      <th>0</th>\n",
       "      <td>0.000000</td>\n",
       "      <td>0.18</td>\n",
       "      <td>0.067815</td>\n",
       "      <td>0.0</td>\n",
       "      <td>0.314815</td>\n",
       "      <td>0.577505</td>\n",
       "      <td>0.641607</td>\n",
       "      <td>0.269203</td>\n",
       "      <td>0.000000</td>\n",
       "      <td>0.208015</td>\n",
       "      <td>0.287234</td>\n",
       "      <td>1.000000</td>\n",
       "      <td>0.089680</td>\n",
       "      <td>0.051791</td>\n",
       "      <td>0.120130</td>\n",
       "      <td>0.000000</td>\n",
       "      <td>0.165879</td>\n",
       "      <td>0.039164</td>\n",
       "      <td>0.181807</td>\n",
       "      <td>0.370531</td>\n",
       "    </tr>\n",
       "    <tr>\n",
       "      <th>1</th>\n",
       "      <td>0.000236</td>\n",
       "      <td>0.00</td>\n",
       "      <td>0.242302</td>\n",
       "      <td>0.0</td>\n",
       "      <td>0.172840</td>\n",
       "      <td>0.547998</td>\n",
       "      <td>0.782698</td>\n",
       "      <td>0.348962</td>\n",
       "      <td>0.043478</td>\n",
       "      <td>0.104962</td>\n",
       "      <td>0.553191</td>\n",
       "      <td>1.000000</td>\n",
       "      <td>0.204470</td>\n",
       "      <td>0.112049</td>\n",
       "      <td>0.057519</td>\n",
       "      <td>0.023826</td>\n",
       "      <td>0.303148</td>\n",
       "      <td>0.132781</td>\n",
       "      <td>0.094716</td>\n",
       "      <td>0.428917</td>\n",
       "    </tr>\n",
       "    <tr>\n",
       "      <th>2</th>\n",
       "      <td>0.000236</td>\n",
       "      <td>0.00</td>\n",
       "      <td>0.242302</td>\n",
       "      <td>0.0</td>\n",
       "      <td>0.172840</td>\n",
       "      <td>0.694386</td>\n",
       "      <td>0.599382</td>\n",
       "      <td>0.348962</td>\n",
       "      <td>0.043478</td>\n",
       "      <td>0.104962</td>\n",
       "      <td>0.553191</td>\n",
       "      <td>0.989737</td>\n",
       "      <td>0.063466</td>\n",
       "      <td>0.044070</td>\n",
       "      <td>0.072884</td>\n",
       "      <td>0.030191</td>\n",
       "      <td>0.384128</td>\n",
       "      <td>0.168251</td>\n",
       "      <td>0.120017</td>\n",
       "      <td>0.416202</td>\n",
       "    </tr>\n",
       "    <tr>\n",
       "      <th>3</th>\n",
       "      <td>0.000293</td>\n",
       "      <td>0.00</td>\n",
       "      <td>0.063050</td>\n",
       "      <td>0.0</td>\n",
       "      <td>0.150206</td>\n",
       "      <td>0.658555</td>\n",
       "      <td>0.441813</td>\n",
       "      <td>0.448545</td>\n",
       "      <td>0.086957</td>\n",
       "      <td>0.066794</td>\n",
       "      <td>0.648936</td>\n",
       "      <td>0.994276</td>\n",
       "      <td>0.033389</td>\n",
       "      <td>0.021988</td>\n",
       "      <td>0.043987</td>\n",
       "      <td>0.057266</td>\n",
       "      <td>0.427360</td>\n",
       "      <td>0.041522</td>\n",
       "      <td>0.098919</td>\n",
       "      <td>0.290958</td>\n",
       "    </tr>\n",
       "    <tr>\n",
       "      <th>4</th>\n",
       "      <td>0.000705</td>\n",
       "      <td>0.00</td>\n",
       "      <td>0.063050</td>\n",
       "      <td>0.0</td>\n",
       "      <td>0.150206</td>\n",
       "      <td>0.687105</td>\n",
       "      <td>0.528321</td>\n",
       "      <td>0.448545</td>\n",
       "      <td>0.086957</td>\n",
       "      <td>0.066794</td>\n",
       "      <td>0.648936</td>\n",
       "      <td>1.000000</td>\n",
       "      <td>0.099338</td>\n",
       "      <td>0.068255</td>\n",
       "      <td>0.045894</td>\n",
       "      <td>0.059748</td>\n",
       "      <td>0.445887</td>\n",
       "      <td>0.043322</td>\n",
       "      <td>0.103207</td>\n",
       "      <td>0.363012</td>\n",
       "    </tr>\n",
       "  </tbody>\n",
       "</table>\n",
       "</div>"
      ],
      "text/plain": [
       "       CRIM    ZN     INDUS  CHAS       NOX        RM       AGE       DIS  \\\n",
       "0  0.000000  0.18  0.067815   0.0  0.314815  0.577505  0.641607  0.269203   \n",
       "1  0.000236  0.00  0.242302   0.0  0.172840  0.547998  0.782698  0.348962   \n",
       "2  0.000236  0.00  0.242302   0.0  0.172840  0.694386  0.599382  0.348962   \n",
       "3  0.000293  0.00  0.063050   0.0  0.150206  0.658555  0.441813  0.448545   \n",
       "4  0.000705  0.00  0.063050   0.0  0.150206  0.687105  0.528321  0.448545   \n",
       "\n",
       "        RAD       TAX   PTRATIO         B     LSTAT  RM_LSTAT    RM_TAX  \\\n",
       "0  0.000000  0.208015  0.287234  1.000000  0.089680  0.051791  0.120130   \n",
       "1  0.043478  0.104962  0.553191  1.000000  0.204470  0.112049  0.057519   \n",
       "2  0.043478  0.104962  0.553191  0.989737  0.063466  0.044070  0.072884   \n",
       "3  0.086957  0.066794  0.648936  0.994276  0.033389  0.021988  0.043987   \n",
       "4  0.086957  0.066794  0.648936  1.000000  0.099338  0.068255  0.045894   \n",
       "\n",
       "     RM_RAD  RM_PTRATIO  INDUS_RM    NOX_RM    RM_AGE  \n",
       "0  0.000000    0.165879  0.039164  0.181807  0.370531  \n",
       "1  0.023826    0.303148  0.132781  0.094716  0.428917  \n",
       "2  0.030191    0.384128  0.168251  0.120017  0.416202  \n",
       "3  0.057266    0.427360  0.041522  0.098919  0.290958  \n",
       "4  0.059748    0.445887  0.043322  0.103207  0.363012  "
      ]
     },
     "execution_count": 10,
     "metadata": {},
     "output_type": "execute_result"
    }
   ],
   "source": [
    "# Your code here\n",
    "for row in top_7.values:\n",
    "    X[row[0]] = X[row[2]]*X[row[3]]\n",
    "X.head()"
   ]
  },
  {
   "cell_type": "markdown",
   "metadata": {},
   "source": [
    "## Include Polynomials"
   ]
  },
  {
   "cell_type": "markdown",
   "metadata": {},
   "source": [
    "Try polynomials of 2, 3 and 4 for each variable, in a similar way you did for interactions (by looking at your baseline model and seeing how $R^2$ increases). Do understand that when going for a polynomial of 4, the particular column is raised to the power of 2 and 3 as well in other terms. We only want to include \"pure\" polynomials, so make sure no interactions are included. We want the result to return a list that contain tuples of the form:\n",
    "\n",
    "`(var_name, degree, R2)`, so eg. `('DIS', 3, 0.732)`"
   ]
  },
  {
   "cell_type": "code",
   "execution_count": 11,
   "metadata": {},
   "outputs": [],
   "source": [
    "from itertools import product"
   ]
  },
  {
   "cell_type": "code",
   "execution_count": 12,
   "metadata": {},
   "outputs": [],
   "source": [
    "# Your code here\n",
    "from sklearn.preprocessing import PolynomialFeatures\n",
    "fits = {'Variable':[],'degree':[], 'R2':[]}\n",
    "for column,degree in product(X.columns[0:-7],[2,3,4]): # Only 'pure' columns... whatever that means\n",
    "    Xc = X.copy()\n",
    "    poly = PolynomialFeatures(degree,include_bias = False)\n",
    "    data = poly.fit_transform(Xc[[column]])\n",
    "    temp_df = pd.concat([Xc.drop(column, axis = 1), pd.DataFrame(data)], axis = 1)\n",
    "    r2 = np.mean(cross_val_score(linreg, temp_df, y, scoring=\"r2\", cv=crossvalidation))\n",
    "    fits['Variable'].append(column)\n",
    "    fits['R2'].append(r2)\n",
    "    fits['degree'].append(degree)\n",
    "fits_df = pd.DataFrame(fits)"
   ]
  },
  {
   "cell_type": "markdown",
   "metadata": {},
   "source": [
    "For each variable, print out the maximum R2 possible when including Polynomials."
   ]
  },
  {
   "cell_type": "code",
   "execution_count": 13,
   "metadata": {},
   "outputs": [
    {
     "data": {
      "text/html": [
       "<div>\n",
       "<style scoped>\n",
       "    .dataframe tbody tr th:only-of-type {\n",
       "        vertical-align: middle;\n",
       "    }\n",
       "\n",
       "    .dataframe tbody tr th {\n",
       "        vertical-align: top;\n",
       "    }\n",
       "\n",
       "    .dataframe thead th {\n",
       "        text-align: right;\n",
       "    }\n",
       "</style>\n",
       "<table border=\"1\" class=\"dataframe\">\n",
       "  <thead>\n",
       "    <tr style=\"text-align: right;\">\n",
       "      <th></th>\n",
       "      <th>Variable</th>\n",
       "      <th>degree</th>\n",
       "      <th>R2</th>\n",
       "    </tr>\n",
       "  </thead>\n",
       "  <tbody>\n",
       "    <tr>\n",
       "      <th>22</th>\n",
       "      <td>DIS</td>\n",
       "      <td>3</td>\n",
       "      <td>0.803287</td>\n",
       "    </tr>\n",
       "    <tr>\n",
       "      <th>38</th>\n",
       "      <td>LSTAT</td>\n",
       "      <td>4</td>\n",
       "      <td>0.795389</td>\n",
       "    </tr>\n",
       "    <tr>\n",
       "      <th>0</th>\n",
       "      <td>CRIM</td>\n",
       "      <td>2</td>\n",
       "      <td>0.793518</td>\n",
       "    </tr>\n",
       "    <tr>\n",
       "      <th>14</th>\n",
       "      <td>NOX</td>\n",
       "      <td>4</td>\n",
       "      <td>0.793377</td>\n",
       "    </tr>\n",
       "    <tr>\n",
       "      <th>29</th>\n",
       "      <td>TAX</td>\n",
       "      <td>4</td>\n",
       "      <td>0.792650</td>\n",
       "    </tr>\n",
       "    <tr>\n",
       "      <th>18</th>\n",
       "      <td>AGE</td>\n",
       "      <td>2</td>\n",
       "      <td>0.792060</td>\n",
       "    </tr>\n",
       "    <tr>\n",
       "      <th>5</th>\n",
       "      <td>ZN</td>\n",
       "      <td>4</td>\n",
       "      <td>0.791477</td>\n",
       "    </tr>\n",
       "    <tr>\n",
       "      <th>17</th>\n",
       "      <td>RM</td>\n",
       "      <td>4</td>\n",
       "      <td>0.791200</td>\n",
       "    </tr>\n",
       "    <tr>\n",
       "      <th>33</th>\n",
       "      <td>B</td>\n",
       "      <td>2</td>\n",
       "      <td>0.790300</td>\n",
       "    </tr>\n",
       "    <tr>\n",
       "      <th>26</th>\n",
       "      <td>RAD</td>\n",
       "      <td>4</td>\n",
       "      <td>0.790035</td>\n",
       "    </tr>\n",
       "    <tr>\n",
       "      <th>9</th>\n",
       "      <td>CHAS</td>\n",
       "      <td>2</td>\n",
       "      <td>0.789785</td>\n",
       "    </tr>\n",
       "    <tr>\n",
       "      <th>7</th>\n",
       "      <td>INDUS</td>\n",
       "      <td>3</td>\n",
       "      <td>0.789703</td>\n",
       "    </tr>\n",
       "    <tr>\n",
       "      <th>30</th>\n",
       "      <td>PTRATIO</td>\n",
       "      <td>2</td>\n",
       "      <td>0.789217</td>\n",
       "    </tr>\n",
       "  </tbody>\n",
       "</table>\n",
       "</div>"
      ],
      "text/plain": [
       "   Variable  degree        R2\n",
       "22      DIS       3  0.803287\n",
       "38    LSTAT       4  0.795389\n",
       "0      CRIM       2  0.793518\n",
       "14      NOX       4  0.793377\n",
       "29      TAX       4  0.792650\n",
       "18      AGE       2  0.792060\n",
       "5        ZN       4  0.791477\n",
       "17       RM       4  0.791200\n",
       "33        B       2  0.790300\n",
       "26      RAD       4  0.790035\n",
       "9      CHAS       2  0.789785\n",
       "7     INDUS       3  0.789703\n",
       "30  PTRATIO       2  0.789217"
      ]
     },
     "execution_count": 13,
     "metadata": {},
     "output_type": "execute_result"
    }
   ],
   "source": [
    "# Your code here\n",
    "fits_df.loc[fits_df.groupby('Variable')['R2'].idxmax()].sort_values('R2',ascending = False)"
   ]
  },
  {
   "cell_type": "markdown",
   "metadata": {},
   "source": [
    "Which two variables seem to benefit most from adding Polynomial terms?"
   ]
  },
  {
   "cell_type": "markdown",
   "metadata": {},
   "source": [
    "Add Polynomials for the two features that seem to benefit the most, as in have the best R squared compared to the baseline model. For each of the two feature, raise to the Polynomial that generates the best result. Make sure to start from the data set `df_inter` so the final data set has both interactions and polynomials in the model."
   ]
  },
  {
   "cell_type": "code",
   "execution_count": 14,
   "metadata": {},
   "outputs": [],
   "source": [
    "# DIS first\n",
    "poly = PolynomialFeatures(3)\n",
    "data = poly.fit_transform(X[['DIS']])\n",
    "X = X.merge(pd.DataFrame(data, columns = ['DIS0', 'DIS1', 'DIS2', 'DIS3']), left_index = True, right_index = True).drop(['DIS','DIS0'], axis = 1)"
   ]
  },
  {
   "cell_type": "code",
   "execution_count": 15,
   "metadata": {},
   "outputs": [],
   "source": [
    "# Now LSTAT\n",
    "poly = PolynomialFeatures(4)\n",
    "data = poly.fit_transform(X[['LSTAT']])\n",
    "X = X.merge(pd.DataFrame(data, columns = ['LSTAT0', 'LSTAT1', 'LSTAT2', 'LSTAT3','LSTAT4']), left_index = True, right_index = True).drop(['LSTAT','LSTAT0'], axis = 1)"
   ]
  },
  {
   "cell_type": "markdown",
   "metadata": {},
   "source": [
    "check out your final data set and make sure that your interaction terms as well as your polynomial terms are included."
   ]
  },
  {
   "cell_type": "code",
   "execution_count": 16,
   "metadata": {},
   "outputs": [
    {
     "data": {
      "text/html": [
       "<div>\n",
       "<style scoped>\n",
       "    .dataframe tbody tr th:only-of-type {\n",
       "        vertical-align: middle;\n",
       "    }\n",
       "\n",
       "    .dataframe tbody tr th {\n",
       "        vertical-align: top;\n",
       "    }\n",
       "\n",
       "    .dataframe thead th {\n",
       "        text-align: right;\n",
       "    }\n",
       "</style>\n",
       "<table border=\"1\" class=\"dataframe\">\n",
       "  <thead>\n",
       "    <tr style=\"text-align: right;\">\n",
       "      <th></th>\n",
       "      <th>CRIM</th>\n",
       "      <th>ZN</th>\n",
       "      <th>INDUS</th>\n",
       "      <th>CHAS</th>\n",
       "      <th>NOX</th>\n",
       "      <th>RM</th>\n",
       "      <th>AGE</th>\n",
       "      <th>RAD</th>\n",
       "      <th>TAX</th>\n",
       "      <th>PTRATIO</th>\n",
       "      <th>...</th>\n",
       "      <th>INDUS_RM</th>\n",
       "      <th>NOX_RM</th>\n",
       "      <th>RM_AGE</th>\n",
       "      <th>DIS1</th>\n",
       "      <th>DIS2</th>\n",
       "      <th>DIS3</th>\n",
       "      <th>LSTAT1</th>\n",
       "      <th>LSTAT2</th>\n",
       "      <th>LSTAT3</th>\n",
       "      <th>LSTAT4</th>\n",
       "    </tr>\n",
       "  </thead>\n",
       "  <tbody>\n",
       "    <tr>\n",
       "      <th>0</th>\n",
       "      <td>0.000000</td>\n",
       "      <td>0.18</td>\n",
       "      <td>0.067815</td>\n",
       "      <td>0.0</td>\n",
       "      <td>0.314815</td>\n",
       "      <td>0.577505</td>\n",
       "      <td>0.641607</td>\n",
       "      <td>0.000000</td>\n",
       "      <td>0.208015</td>\n",
       "      <td>0.287234</td>\n",
       "      <td>...</td>\n",
       "      <td>0.039164</td>\n",
       "      <td>0.181807</td>\n",
       "      <td>0.370531</td>\n",
       "      <td>0.269203</td>\n",
       "      <td>0.072470</td>\n",
       "      <td>0.019509</td>\n",
       "      <td>0.089680</td>\n",
       "      <td>0.008042</td>\n",
       "      <td>0.000721</td>\n",
       "      <td>0.000065</td>\n",
       "    </tr>\n",
       "    <tr>\n",
       "      <th>1</th>\n",
       "      <td>0.000236</td>\n",
       "      <td>0.00</td>\n",
       "      <td>0.242302</td>\n",
       "      <td>0.0</td>\n",
       "      <td>0.172840</td>\n",
       "      <td>0.547998</td>\n",
       "      <td>0.782698</td>\n",
       "      <td>0.043478</td>\n",
       "      <td>0.104962</td>\n",
       "      <td>0.553191</td>\n",
       "      <td>...</td>\n",
       "      <td>0.132781</td>\n",
       "      <td>0.094716</td>\n",
       "      <td>0.428917</td>\n",
       "      <td>0.348962</td>\n",
       "      <td>0.121774</td>\n",
       "      <td>0.042495</td>\n",
       "      <td>0.204470</td>\n",
       "      <td>0.041808</td>\n",
       "      <td>0.008549</td>\n",
       "      <td>0.001748</td>\n",
       "    </tr>\n",
       "    <tr>\n",
       "      <th>2</th>\n",
       "      <td>0.000236</td>\n",
       "      <td>0.00</td>\n",
       "      <td>0.242302</td>\n",
       "      <td>0.0</td>\n",
       "      <td>0.172840</td>\n",
       "      <td>0.694386</td>\n",
       "      <td>0.599382</td>\n",
       "      <td>0.043478</td>\n",
       "      <td>0.104962</td>\n",
       "      <td>0.553191</td>\n",
       "      <td>...</td>\n",
       "      <td>0.168251</td>\n",
       "      <td>0.120017</td>\n",
       "      <td>0.416202</td>\n",
       "      <td>0.348962</td>\n",
       "      <td>0.121774</td>\n",
       "      <td>0.042495</td>\n",
       "      <td>0.063466</td>\n",
       "      <td>0.004028</td>\n",
       "      <td>0.000256</td>\n",
       "      <td>0.000016</td>\n",
       "    </tr>\n",
       "    <tr>\n",
       "      <th>3</th>\n",
       "      <td>0.000293</td>\n",
       "      <td>0.00</td>\n",
       "      <td>0.063050</td>\n",
       "      <td>0.0</td>\n",
       "      <td>0.150206</td>\n",
       "      <td>0.658555</td>\n",
       "      <td>0.441813</td>\n",
       "      <td>0.086957</td>\n",
       "      <td>0.066794</td>\n",
       "      <td>0.648936</td>\n",
       "      <td>...</td>\n",
       "      <td>0.041522</td>\n",
       "      <td>0.098919</td>\n",
       "      <td>0.290958</td>\n",
       "      <td>0.448545</td>\n",
       "      <td>0.201192</td>\n",
       "      <td>0.090244</td>\n",
       "      <td>0.033389</td>\n",
       "      <td>0.001115</td>\n",
       "      <td>0.000037</td>\n",
       "      <td>0.000001</td>\n",
       "    </tr>\n",
       "    <tr>\n",
       "      <th>4</th>\n",
       "      <td>0.000705</td>\n",
       "      <td>0.00</td>\n",
       "      <td>0.063050</td>\n",
       "      <td>0.0</td>\n",
       "      <td>0.150206</td>\n",
       "      <td>0.687105</td>\n",
       "      <td>0.528321</td>\n",
       "      <td>0.086957</td>\n",
       "      <td>0.066794</td>\n",
       "      <td>0.648936</td>\n",
       "      <td>...</td>\n",
       "      <td>0.043322</td>\n",
       "      <td>0.103207</td>\n",
       "      <td>0.363012</td>\n",
       "      <td>0.448545</td>\n",
       "      <td>0.201192</td>\n",
       "      <td>0.090244</td>\n",
       "      <td>0.099338</td>\n",
       "      <td>0.009868</td>\n",
       "      <td>0.000980</td>\n",
       "      <td>0.000097</td>\n",
       "    </tr>\n",
       "  </tbody>\n",
       "</table>\n",
       "<p>5 rows × 25 columns</p>\n",
       "</div>"
      ],
      "text/plain": [
       "       CRIM    ZN     INDUS  CHAS       NOX        RM       AGE       RAD  \\\n",
       "0  0.000000  0.18  0.067815   0.0  0.314815  0.577505  0.641607  0.000000   \n",
       "1  0.000236  0.00  0.242302   0.0  0.172840  0.547998  0.782698  0.043478   \n",
       "2  0.000236  0.00  0.242302   0.0  0.172840  0.694386  0.599382  0.043478   \n",
       "3  0.000293  0.00  0.063050   0.0  0.150206  0.658555  0.441813  0.086957   \n",
       "4  0.000705  0.00  0.063050   0.0  0.150206  0.687105  0.528321  0.086957   \n",
       "\n",
       "        TAX   PTRATIO    ...     INDUS_RM    NOX_RM    RM_AGE      DIS1  \\\n",
       "0  0.208015  0.287234    ...     0.039164  0.181807  0.370531  0.269203   \n",
       "1  0.104962  0.553191    ...     0.132781  0.094716  0.428917  0.348962   \n",
       "2  0.104962  0.553191    ...     0.168251  0.120017  0.416202  0.348962   \n",
       "3  0.066794  0.648936    ...     0.041522  0.098919  0.290958  0.448545   \n",
       "4  0.066794  0.648936    ...     0.043322  0.103207  0.363012  0.448545   \n",
       "\n",
       "       DIS2      DIS3    LSTAT1    LSTAT2    LSTAT3    LSTAT4  \n",
       "0  0.072470  0.019509  0.089680  0.008042  0.000721  0.000065  \n",
       "1  0.121774  0.042495  0.204470  0.041808  0.008549  0.001748  \n",
       "2  0.121774  0.042495  0.063466  0.004028  0.000256  0.000016  \n",
       "3  0.201192  0.090244  0.033389  0.001115  0.000037  0.000001  \n",
       "4  0.201192  0.090244  0.099338  0.009868  0.000980  0.000097  \n",
       "\n",
       "[5 rows x 25 columns]"
      ]
     },
     "execution_count": 16,
     "metadata": {},
     "output_type": "execute_result"
    }
   ],
   "source": [
    "# Your code here\n",
    "X.head()"
   ]
  },
  {
   "cell_type": "markdown",
   "metadata": {},
   "source": [
    "## Full model R-squared"
   ]
  },
  {
   "cell_type": "markdown",
   "metadata": {},
   "source": [
    "Check out the R-squared of the full model."
   ]
  },
  {
   "cell_type": "code",
   "execution_count": 17,
   "metadata": {},
   "outputs": [
    {
     "data": {
      "text/plain": [
       "0.8042354225748314"
      ]
     },
     "execution_count": 17,
     "metadata": {},
     "output_type": "execute_result"
    }
   ],
   "source": [
    "# Your code here\n",
    "linreg = LinearRegression()\n",
    "crossvalidation = KFold(n_splits=5, shuffle=True, random_state=1)\n",
    "r2 = np.mean(cross_val_score(linreg, X, y, scoring=\"r2\", cv=crossvalidation))\n",
    "r2"
   ]
  },
  {
   "cell_type": "markdown",
   "metadata": {},
   "source": [
    "## Finding the best Lasso regularization parameter"
   ]
  },
  {
   "cell_type": "markdown",
   "metadata": {},
   "source": [
    "You've learned that, when using Lasso regularization, your coefficients shrink to 0 when using a higher regularization parameter. Now the question is which value we should choose for the regularization parameter. \n",
    "\n",
    "This is where the AIC and BIC come in handy! We'll use both criteria in what follows and perform cross-validation to select an optimal value of the regularization parameter alpha of the Lasso estimator.\n",
    "\n",
    "Read the page here: https://scikit-learn.org/stable/auto_examples/linear_model/plot_lasso_model_selection.html and create a similar plot as the first one listed on the page. "
   ]
  },
  {
   "cell_type": "code",
   "execution_count": 18,
   "metadata": {},
   "outputs": [
    {
     "data": {
      "text/plain": [
       "Text(0.5, 1.0, 'Information-criterion for model selection')"
      ]
     },
     "execution_count": 18,
     "metadata": {},
     "output_type": "execute_result"
    },
    {
     "data": {
      "image/png": "[encoded data removed]",
      "text/plain": [
       "<Figure size 432x288 with 1 Axes>"
      ]
     },
     "metadata": {
      "needs_background": "light"
     },
     "output_type": "display_data"
    }
   ],
   "source": [
    "# Your code here\n",
    "from sklearn.linear_model import LassoCV, LassoLarsCV, LassoLarsIC\n",
    "\n",
    "model_bic = LassoLarsIC(criterion='bic')\n",
    "model_bic.fit(X, y)\n",
    "alpha_bic_ = model_bic.alpha_\n",
    "\n",
    "model_aic = LassoLarsIC(criterion='aic')\n",
    "model_aic.fit(X, y)\n",
    "alpha_aic_ = model_aic.alpha_\n",
    "\n",
    "def plot_ic_criterion(model, name, color):\n",
    "    alpha_ = model.alpha_\n",
    "    alphas_ = model.alphas_\n",
    "    criterion_ = model.criterion_\n",
    "    plt.plot(-np.log10(alphas_), criterion_, '--', color=color,\n",
    "             linewidth=3, label='%s criterion' % name)\n",
    "    plt.axvline(-np.log10(alpha_), color=color, linewidth=3,\n",
    "                label='{0:1.2f}: {1} estimate'.format(-np.log10(alpha_), name))\n",
    "    plt.xlabel('-log(alpha)')\n",
    "    plt.ylabel('criterion')\n",
    "    \n",
    "plt.figure()\n",
    "plot_ic_criterion(model_aic, 'AIC', 'b')\n",
    "plot_ic_criterion(model_bic, 'BIC', 'r')\n",
    "plt.legend()\n",
    "plt.title('Information-criterion for model selection')"
   ]
  },
  {
   "cell_type": "code",
   "execution_count": 19,
   "metadata": {},
   "outputs": [],
   "source": [
    "alpha_aic = 10**(-4.13)\n",
    "alpha_bic = 10**(-3.03)"
   ]
  },
  {
   "cell_type": "markdown",
   "metadata": {},
   "source": [
    "## Analyze the final result\n",
    "\n",
    "Finally, use the best value for regularization parameter according to AIC and BIC and compare the R squared parameters and MSE using train-test-split. Compare with the baseline model."
   ]
  },
  {
   "cell_type": "code",
   "execution_count": 27,
   "metadata": {},
   "outputs": [],
   "source": [
    "from sklearn.model_selection import train_test_split\n",
    "from sklearn.metrics import mean_squared_error"
   ]
  },
  {
   "cell_type": "code",
   "execution_count": 21,
   "metadata": {},
   "outputs": [],
   "source": [
    "X_train, X_test, y_train, y_test = train_test_split(X,y)"
   ]
  },
  {
   "cell_type": "code",
   "execution_count": 30,
   "metadata": {},
   "outputs": [],
   "source": [
    "def scoring(X_train, X_test, y_train, y_test, model):\n",
    "    X = [X_train, X_test]\n",
    "    y = [y_train, y_test]\n",
    "    r2 = []\n",
    "    mse = []\n",
    "    for Xi, yi in zip(X,y):\n",
    "        model.fit(Xi,yi)\n",
    "        y_hat = model.predict(Xi)\n",
    "        crossvalidation = KFold(n_splits=5, shuffle=True, random_state=1)\n",
    "        r2.append(np.mean(cross_val_score(model, Xi, yi, scoring=\"r2\", cv=crossvalidation)))\n",
    "        mse.append(mean_squared_error(yi, y_hat))\n",
    "    print('R-squared Train: {0:1.3f}'.format(r2[0]))\n",
    "    print('R-squared Test: {0:1.3f}'.format(r2[1]))\n",
    "    print('MSE Train: {0:1.3E}'.format(mse[0]))\n",
    "    print('MSE Test: {0:1.3E}'.format(mse[1]))\n",
    "    \n",
    "    return (r2, mse)"
   ]
  },
  {
   "cell_type": "code",
   "execution_count": 34,
   "metadata": {},
   "outputs": [
    {
     "name": "stdout",
     "output_type": "stream",
     "text": [
      "R-squared Train: 0.795\n",
      "R-squared Test: 0.490\n",
      "MSE Train: 6.350E-03\n",
      "MSE Test: 5.126E-03\n"
     ]
    }
   ],
   "source": [
    "# Code for baseline model\n",
    "linreg = LinearRegression()\n",
    "_ = scoring(X_train, X_test, y_train, y_test, linreg)"
   ]
  },
  {
   "cell_type": "code",
   "execution_count": 33,
   "metadata": {},
   "outputs": [
    {
     "name": "stdout",
     "output_type": "stream",
     "text": [
      "R-squared Train: 0.801\n",
      "R-squared Test: 0.631\n",
      "MSE Train: 6.725E-03\n",
      "MSE Test: 6.156E-03\n"
     ]
    }
   ],
   "source": [
    "# code for lasso with alpha from AIC\n",
    "from sklearn.linear_model import Lasso\n",
    "reg = Lasso(alpha = alpha_aic)\n",
    "_ = scoring(X_train, X_test, y_train, y_test, reg)"
   ]
  },
  {
   "cell_type": "code",
   "execution_count": 35,
   "metadata": {},
   "outputs": [
    {
     "name": "stdout",
     "output_type": "stream",
     "text": [
      "R-squared Train: 0.754\n",
      "R-squared Test: 0.715\n",
      "MSE Train: 8.757E-03\n",
      "MSE Test: 7.972E-03\n"
     ]
    }
   ],
   "source": [
    "# code for lasso with alpha from BIC\n",
    "reg = Lasso(alpha = alpha_bic)\n",
    "_ = scoring(X_train, X_test, y_train, y_test, reg)"
   ]
  },
  {
   "cell_type": "markdown",
   "metadata": {},
   "source": [
    "## Level Up - Optional"
   ]
  },
  {
   "cell_type": "markdown",
   "metadata": {},
   "source": [
    "### Create a Lasso Path\n",
    "\n",
    "From this section, you know that when using lasso, more parameters shrink to zero as your regularization parameter goes up. In Scikit-Learn there is a function lasso_path which visualizes the shrinkage of the coefficients while alpha changes. Try this out yourself!\n",
    "\n",
    "https://scikit-learn.org/stable/auto_examples/linear_model/plot_lasso_coordinate_descent_path.html#sphx-glr-auto-examples-linear-model-plot-lasso-coordinate-descent-path-py"
   ]
  },
  {
   "cell_type": "markdown",
   "metadata": {},
   "source": [
    "### AIC and BIC for subset selection\n",
    "This notebook shows how you can use AIC and BIC purely for feature selection. Try this code out on our Boston Housing data!"
   ]
  },
  {
   "cell_type": "markdown",
   "metadata": {},
   "source": [
    "https://xavierbourretsicotte.github.io/subset_selection.html"
   ]
  },
  {
   "cell_type": "markdown",
   "metadata": {},
   "source": [
    "## Summary"
   ]
  },
  {
   "cell_type": "markdown",
   "metadata": {},
   "source": [
    "Congratulations! You now know how to create better linear models and how to use AIC and BIC for both feature selection and to optimize your regularization parameter when performing Ridge and Lasso. "
   ]
  }
 ],
 "metadata": {
  "kernelspec": {
   "display_name": "Python 3",
   "language": "python",
   "name": "python3"
  },
  "language_info": {
   "codemirror_mode": {
    "name": "ipython",
    "version": 3
   },
   "file_extension": ".py",
   "mimetype": "text/x-python",
   "name": "python",
   "nbconvert_exporter": "python",
   "pygments_lexer": "ipython3",
   "version": "3.6.6"
  }
 },
 "nbformat": 4,
 "nbformat_minor": 2
}
